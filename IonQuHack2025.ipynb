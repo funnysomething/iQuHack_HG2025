{
  "cells": [
    {
      "cell_type": "markdown",
      "id": "48a806ad-debe-415a-9948-92e7e2a4feeb",
      "metadata": {
        "id": "48a806ad-debe-415a-9948-92e7e2a4feeb"
      },
      "source": [
        "![IonQ Logo](https://github.com/iQuHACK/2025-IonQ/blob/main/logo.png?raw=1)\n",
        "# IonQ iQuHack2025 Challenge\n",
        "\n"
      ]
    },
    {
      "cell_type": "markdown",
      "id": "ecfc7a22-96a2-4ecf-915d-fbf113dec30a",
      "metadata": {
        "id": "ecfc7a22-96a2-4ecf-915d-fbf113dec30a"
      },
      "source": [
        "Before proceeding, register once.  Then, comment out the registration function call to avoid re-registering when running the notebook again."
      ]
    },
    {
      "cell_type": "code",
      "execution_count": 3187,
      "id": "5e6c3e8b-f16c-4499-8470-8b931f745abb",
      "metadata": {
        "id": "5e6c3e8b-f16c-4499-8470-8b931f745abb"
      },
      "outputs": [],
      "source": [
        "import requests\n",
        "\n",
        "def register():\n",
        "    team_name = input(\"Enter your team name: \")\n",
        "    in_person = input(\"Enter participation type - in-person or remote: \")\n",
        "    data = []\n",
        "\n",
        "    while email := input(\"Enter email separated by commas (enter to cancel): \"):\n",
        "        firstname = input(\"Enter your first name: \")\n",
        "        lastname = input(\"Enter your last name: \")\n",
        "        github = input(\"Enter your github handle: \")\n",
        "        data.append((firstname, lastname, email, github))\n",
        "\n",
        "    for firstname, lastname, email, github in data:\n",
        "    \turl = f\"https://ionquhack2025.azurewebsites.net/api/registration?TeamName={team_name}&FirstName={firstname}&LastName={lastname}&Email={email}&GitHubHandle={github}&Remote-In-Person={in_person}\"\n",
        "    \treq = requests.post(url)\n",
        "    \tprint(\"\\n\\n\\n\"+req.text)\n",
        "\n",
        "\n",
        "# Comment this out after registration:\n",
        "# register()"
      ]
    },
    {
      "cell_type": "markdown",
      "id": "42212063-53d2-4350-8404-a8308adccfa4",
      "metadata": {
        "id": "42212063-53d2-4350-8404-a8308adccfa4"
      },
      "source": [
        "Enter the `key` you've got on the previous step here:"
      ]
    },
    {
      "cell_type": "code",
      "execution_count": 3188,
      "id": "06d98469-7958-46a5-87c0-fa93bdd4e888",
      "metadata": {
        "id": "06d98469-7958-46a5-87c0-fa93bdd4e888"
      },
      "outputs": [],
      "source": [
        "key = \"\""
      ]
    },
    {
      "cell_type": "markdown",
      "id": "5af701ad-834d-4341-a8e4-96e3536c7cf1",
      "metadata": {
        "id": "5af701ad-834d-4341-a8e4-96e3536c7cf1"
      },
      "source": [
        "Did you comment out the `register()` function call?  \n",
        "\n",
        "Please share your research process on GitHub: https://github.com/iQuHACK/2025-IonQ/discussions\n"
      ]
    },
    {
      "cell_type": "markdown",
      "id": "3f17e609-0752-4ad5-9a21-2416f3e4b12c",
      "metadata": {
        "id": "3f17e609-0752-4ad5-9a21-2416f3e4b12c"
      },
      "source": [
        "## Maximum Cut problem (max-cut) with variational Quantum Imaginary Time Evolution (varQITE) method\n",
        "\n",
        "In this challenge, we demonstrate how to leverage\n",
        "[IonQ Forte][1]'s industry-leading capabilities to solve instances of the\n",
        "[NP-hard][2] combinatorial optimization problem known as\n",
        "[Maximum Cut (MaxCut)][3] using a\n",
        "[novel variational Quantum Imaginary Time Evolution (varQITE)][4] algorithm\n",
        "developed by IonQ in conjunction with researchers at Oak Ridge National Labs\n",
        "(ORNL).\n",
        "\n",
        "[1]: https://ionq.com/forte\n",
        "[2]: https://en.wikipedia.org/wiki/NP-hardness\n",
        "[3]: https://en.wikipedia.org/wiki/Maximum_cut\n",
        "[4]: https://arxiv.org/pdf/2404.16135\n",
        "\n",
        "## What's the problem?\n",
        "### MaxCut 101\n",
        "\n",
        "The Maximum Cut Problem (MaxCut) is a classic combinatorial optimization\n",
        "problem commonly used as an algorithm benchmark by scientific computing\n",
        "researchers. It has numerous applications in a variety of fields: for example,\n",
        "it is used in circuit desing as part of Very Large Scale Integration (VLSI) to\n",
        "find the optimal layout of circuit components; it is used in the study of\n",
        "social networks to identify communities; it is used in computer vision for\n",
        "image segmentation, etc.\n",
        "\n",
        "**MaxCut is a graph problem**: given a graph $G = (V, E)$ with vertex set $V$ and\n",
        "edge set $E$, it asks for a partition of $V$ into sets $S$ and $T$ maximizing\n",
        "the number of edges crossing between $S$ and $T$.\n",
        "\n",
        "Think of it like this: you're trying to cut the graph into two pieces, and you\n",
        "want to make the cut so that it slices through as many edges as possible.\n"
      ]
    },
    {
      "cell_type": "markdown",
      "id": "2de92702-042b-4b32-90d2-277be50e9836",
      "metadata": {
        "id": "2de92702-042b-4b32-90d2-277be50e9836"
      },
      "source": [
        "# Prepare the code environment\n",
        "First, we'll set up the coding environment and install necessary dependencies."
      ]
    },
    {
      "cell_type": "code",
      "execution_count": 3189,
      "id": "d9c70014-233e-4828-a94c-74970f7827e5",
      "metadata": {
        "id": "d9c70014-233e-4828-a94c-74970f7827e5",
        "outputId": "fc152e76-4c66-46a2-fb12-1542afc18f77"
      },
      "outputs": [],
      "source": [
        "# pip install qiskit qiskit-aer networkx numpy pandas -q"
      ]
    },
    {
      "cell_type": "markdown",
      "id": "77722d66-8dd8-4c20-9bb6-a7009467f86c",
      "metadata": {
        "id": "77722d66-8dd8-4c20-9bb6-a7009467f86c"
      },
      "source": [
        "To ensure your code runs correctly everywhere, please only use the imported dependencies.  Using external libraries may cause your submission to fail due to missing dependencies on our servers."
      ]
    },
    {
      "cell_type": "code",
      "execution_count": 3190,
      "id": "fc1a1006-45e2-4180-a64c-aa8085ba3a4b",
      "metadata": {
        "id": "fc1a1006-45e2-4180-a64c-aa8085ba3a4b"
      },
      "outputs": [],
      "source": [
        "## IonQ, Inc., Copyright (c) 2025,\n",
        "# All rights reserved.\n",
        "# Use in source and binary forms of this software, without modification,\n",
        "# is permitted solely for the purpose of activities associated with the IonQ\n",
        "# Hackathon at iQuHack2025 hosted by MIT and only during the Feb 1-2, 2025\n",
        "# duration of such event.\n",
        "\n",
        "import matplotlib.pyplot as plt\n",
        "from IPython import display\n",
        "\n",
        "import networkx as nx\n",
        "import numpy as np\n",
        "import pandas as pd\n",
        "import time\n",
        "\n",
        "from typing import List\n",
        "from qiskit import QuantumCircuit, transpile\n",
        "from qiskit.circuit import ParameterVector\n",
        "from qiskit.quantum_info import SparsePauliOp\n",
        "from qiskit_aer import AerSimulator"
      ]
    },
    {
      "cell_type": "markdown",
      "id": "44344c8e-8bc4-4224-88c5-d8968403174c",
      "metadata": {
        "id": "44344c8e-8bc4-4224-88c5-d8968403174c"
      },
      "source": [
        "# Graph definition\n",
        "\n",
        "A simple graph, defined using the Python NetworkX library, will serve to illustrate the problem and you can explore further complexities.\n"
      ]
    },
    {
      "cell_type": "code",
      "execution_count": 3191,
      "id": "4e194f53-247a-47fc-81a2-7d08e4e9ad68",
      "metadata": {
        "id": "4e194f53-247a-47fc-81a2-7d08e4e9ad68"
      },
      "outputs": [],
      "source": [
        "# other graphs candidates to check\n",
        "\n",
        "import networkx as nx\n",
        "import matplotlib.pyplot as plt\n",
        "import random\n",
        "\n",
        "def star_graph_8():\n",
        "    G = nx.Graph()\n",
        "    center = 0\n",
        "    branches = range(1, 9)  # Nodes 1 to 8\n",
        "\n",
        "    # Connect center node to all branch nodes\n",
        "    G.add_edges_from([(center, b) for b in branches])\n",
        "    # plt.figure(figsize=(5, 5))\n",
        "    # pos = nx.spring_layout(G, seed=42)  # Layout for visualization\n",
        "    # nx.draw(G, pos, with_labels=True, node_color='lightblue', edge_color='black', node_size=500)\n",
        "    # plt.title(\"Star Graph with 8 Branches\")\n",
        "    # plt.show()\n",
        "\n",
        "    return G\n",
        "\n",
        "#-> Cycle Graph C8\n",
        "def cycle_graph_c8():\n",
        "    G = nx.cycle_graph(8)\n",
        "    # plt.figure(figsize=(6, 6))\n",
        "    # pos = nx.circular_layout(G)\n",
        "    # nx.draw(G, pos, with_labels=True, node_color='lightblue', edge_color='gray', node_size=500)\n",
        "    # plt.title(\"Cycle Graph C8\")\n",
        "    # plt.show()\n",
        "    return G\n",
        "\n",
        "# Path Graph P16\n",
        "def path_graph_p16():\n",
        "    G = nx.path_graph(16)\n",
        "    # plt.figure(figsize=(12, 2))\n",
        "    # pos = nx.spring_layout(G, seed=42)\n",
        "    # nx.draw(G, pos, with_labels=True, node_color='lightgreen', edge_color='gray', node_size=300)\n",
        "    # plt.title(\"Path Graph P16\")\n",
        "    # plt.show()\n",
        "    return G\n",
        "\n",
        "#-> Complete Bipartite Graph K8,8\n",
        "def complete_bipartite_graph_k88():\n",
        "    G = nx.complete_bipartite_graph(8, 8)\n",
        "    # plt.figure(figsize=(8, 6))\n",
        "    # pos = nx.bipartite_layout(G, nodes=range(8))\n",
        "    # nx.draw(G, pos, with_labels=True, node_color=['lightcoral'] * 8 + ['lightblue'] * 8,\n",
        "    #         edge_color='gray', node_size=300)\n",
        "    # plt.title(\"Complete Bipartite Graph K8,8\")\n",
        "    # plt.show()\n",
        "    return G\n",
        "\n",
        "#-> Complete Bipartite Graph K8,8\n",
        "def complete_bipartite_graph_k_nn(n):\n",
        "    G = nx.complete_bipartite_graph(n, n)\n",
        "    # plt.figure(figsize=(8, 6))\n",
        "    # pos = nx.bipartite_layout(G, nodes=range(n))\n",
        "    # nx.draw(G, pos, with_labels=True, node_color=['lightcoral'] * n + ['lightblue'] * n,\n",
        "    #         edge_color='gray', node_size=300)\n",
        "    # plt.title(\"Complete Bipartite Graph K{},{}\".format(n,n))\n",
        "    # plt.show()\n",
        "    return G\n",
        "\n",
        "# Star Graph S16\n",
        "def star_graph_s16():\n",
        "    G = nx.star_graph(16)\n",
        "    # plt.figure(figsize=(8, 8))\n",
        "    # pos = nx.spring_layout(G, seed=42)\n",
        "    # nx.draw(G, pos, with_labels=True, node_color='gold', edge_color='gray', node_size=300)\n",
        "    # plt.title(\"Star Graph S16\")\n",
        "    # plt.show()\n",
        "    return G\n",
        "\n",
        "# Grid Graph 8x4\n",
        "def grid_graph_8x4():\n",
        "    G = nx.grid_graph(dim=[8, 4])\n",
        "    # plt.figure(figsize=(12, 6))\n",
        "    # pos = {node: node for node in G.nodes()}\n",
        "    # nx.draw(G, pos, with_labels=True, node_color='lightblue', edge_color='gray', node_size=300)\n",
        "    # plt.title(\"Grid Graph 8x4\")\n",
        "    # plt.show()\n",
        "    return G\n",
        "\n",
        "# Grid Graph 8x4\n",
        "def grid_graph_nxm(n,m):\n",
        "    G = nx.grid_graph(dim=[n, m])\n",
        "    # plt.figure(figsize=(12, 6))\n",
        "    # pos = {node: node for node in G.nodes()}\n",
        "    # nx.draw(G, pos, with_labels=True, node_color='lightblue', edge_color='gray', node_size=300)\n",
        "    # plt.title(\"Grid Graph {}x{}\".format(n,m))\n",
        "    # plt.show()\n",
        "    return G\n",
        "\n",
        "\n",
        "#-> 4-Regular Graph with 8 Vertices\n",
        "def regular_graph_4_8():\n",
        "    G = nx.random_regular_graph(d=4, n=8, seed=42)\n",
        "    # plt.figure(figsize=(6, 6))\n",
        "    # pos = nx.circular_layout(G)\n",
        "    # nx.draw(G, pos, with_labels=True, node_color='lightgreen', edge_color='gray', node_size=500)\n",
        "    # plt.title(\"4-Regular Graph with 8 Vertices\")\n",
        "    # plt.show()\n",
        "    return G\n",
        "\n",
        "#-> Cubic (3-Regular) Graph with 16 Vertices\n",
        "def cubic_graph_3_16():\n",
        "    G = nx.random_regular_graph(d=3, n=16, seed=42)\n",
        "    # plt.figure(figsize=(8, 6))\n",
        "    # pos = nx.spring_layout(G, seed=42)\n",
        "    # nx.draw(G, pos, with_labels=True, node_color='lightcoral', edge_color='gray', node_size=300)\n",
        "    # plt.title(\"Cubic (3-Regular) Graph with 16 Vertices\")\n",
        "    # plt.show()\n",
        "    return G\n",
        "\n",
        "# Disjoint Union of Four C4 Cycles\n",
        "def disjoint_union_c4():\n",
        "    cycles = [nx.cycle_graph(4) for _ in range(4)]\n",
        "    G = nx.disjoint_union_all(cycles)\n",
        "    # plt.figure(figsize=(12, 6))\n",
        "    # pos = {}\n",
        "    # shift_x = 0\n",
        "    # for component in nx.connected_components(G):\n",
        "    #     subgraph = G.subgraph(component)\n",
        "    #     pos_sub = nx.circular_layout(subgraph, scale=1, center=(shift_x, 0))\n",
        "    #     pos.update(pos_sub)\n",
        "    #     shift_x += 3\n",
        "    # nx.draw(G, pos, with_labels=True, node_color='lightblue', edge_color='gray', node_size=300)\n",
        "    # plt.title(\"Disjoint Union of Four C4 Cycles\")\n",
        "    # plt.show()\n",
        "    return G\n",
        "\n",
        "# Complete Bipartite Graph K16,16\n",
        "def complete_bipartite_graph_k1616():\n",
        "    G = nx.complete_bipartite_graph(16, 16)\n",
        "    # plt.figure(figsize=(12, 6))\n",
        "    # pos = nx.bipartite_layout(G, nodes=range(16))\n",
        "    # nx.draw(G, pos, with_labels=False, node_color=['lightcoral'] * 16 + ['lightblue'] * 16,\n",
        "    #         edge_color='gray', node_size=100)\n",
        "    # plt.title(\"Complete Bipartite Graph K16,16\")\n",
        "    # plt.show()\n",
        "    return G\n",
        "\n",
        "# 5-Dimensional Hypercube Graph Q5\n",
        "def hypercube_graph_q5():\n",
        "    G = nx.hypercube_graph(5)\n",
        "    # plt.figure(figsize=(10, 8))\n",
        "    # pos = nx.spring_layout(G, seed=42)\n",
        "    # nx.draw(G, pos, with_labels=False, node_color='lightgreen', edge_color='gray', node_size=200)\n",
        "    # plt.title(\"5-Dimensional Hypercube Graph Q5\")\n",
        "    # plt.show()\n",
        "    return G\n",
        "\n",
        "# Tree Graph with 8 Vertices\n",
        "def tree_graph_8():\n",
        "    G = nx.balanced_tree(r=2, h=2)\n",
        "    G.add_edge(6, 7)\n",
        "    # plt.figure(figsize=(8, 6))\n",
        "    # pos = nx.spring_layout(G, seed=42)\n",
        "    # nx.draw(G, pos, with_labels=True, node_color='lightblue', edge_color='gray', node_size=300)\n",
        "    # plt.title(\"Tree Graph with 8 Vertices\")\n",
        "    # plt.show()\n",
        "    return G\n",
        "\n",
        "# Wheel Graph W16\n",
        "def wheel_graph_w16():\n",
        "    G = nx.wheel_graph(16)\n",
        "    # plt.figure(figsize=(8, 8))\n",
        "    # pos = nx.circular_layout(G)\n",
        "    # nx.draw(G, pos, with_labels=True, node_color='lightcoral', edge_color='gray', node_size=300)\n",
        "    # plt.title(\"Wheel Graph W16\")\n",
        "    # plt.show()\n",
        "    return G\n",
        "\n",
        "#-> Random Connected Graph with 16 Vertices\n",
        "def random_connected_graph_16(p=0.15):\n",
        "    #n, p = 16, 0.25\n",
        "    n=16\n",
        "    while True:\n",
        "        G = nx.erdos_renyi_graph(n, p, seed=random.randint(1, 10000))\n",
        "        if nx.is_connected(G):\n",
        "            break\n",
        "    # plt.figure(figsize=(10, 8))\n",
        "    # pos = nx.spring_layout(G, seed=42)\n",
        "    # nx.draw(G, pos, with_labels=False, node_color='lightgreen', edge_color='gray', node_size=100)\n",
        "    # plt.title(\"Random Connected Graph with 16 Vertices\")\n",
        "    # plt.show()\n",
        "    return G\n",
        "\n",
        "# Expander Graph with 32 Vertices\n",
        "def expander_graph_32():\n",
        "    G = nx.random_regular_graph(4, 32, seed=42)\n",
        "    plt.figure(figsize=(10, 8))\n",
        "    pos = nx.spring_layout(G, seed=42)\n",
        "    nx.draw(G, pos, with_labels=False, node_color='lightblue', edge_color='gray', node_size=100)\n",
        "    plt.title(\"Expander Graph with 32 Vertices\")\n",
        "    plt.show()\n",
        "    return G\n",
        "\n",
        "#-> Expander Graph with n Vertices\n",
        "def expander_graph_n(n):\n",
        "    G = nx.random_regular_graph(4, n, seed=42)\n",
        "    # plt.figure(figsize=(10, 8))\n",
        "    # pos = nx.spring_layout(G, seed=42)\n",
        "    # nx.draw(G, pos, with_labels=False, node_color='lightblue', edge_color='gray', node_size=100)\n",
        "    # plt.title(\"Expander Graph with {} Vertices\".format(n))\n",
        "    # plt.show()\n",
        "    return G\n",
        "\n",
        "# Planar Connected Graph with 16 Vertices\n",
        "def planar_connected_graph_16():\n",
        "    G = nx.grid_graph(dim=[8, 2])\n",
        "    G = nx.convert_node_labels_to_integers(G)\n",
        "    additional_edges = [(0, 9), (1, 10), (2, 11), (3, 12), (4, 13), (5, 14), (6, 15),\n",
        "                        (7, 15), (8, 7)]#, (6, 15), (14, 1), (1, 13), (10, 9), (0, 10), (12, 2), (8, 7)]\n",
        "    G.add_edges_from([e for e in additional_edges if e[0] < 16 and e[1] < 16])\n",
        "    assert nx.check_planarity(G)[0], \"Graph is not planar.\"\n",
        "    pos = {node: (node // 2, node % 2) for node in G.nodes()}\n",
        "    # plt.figure(figsize=(16, 8))\n",
        "    # nx.draw(G, pos, with_labels=False, node_color='lightcoral', edge_color='gray', node_size=100)\n",
        "    # plt.title(\"Planar Connected Graph with 16 Vertices\")\n",
        "    # plt.axis('equal')\n",
        "    # plt.show()\n",
        "    return G"
      ]
    },
    {
      "cell_type": "markdown",
      "id": "cf3913a4-915f-403d-8b04-7600f15a0c1a",
      "metadata": {
        "id": "cf3913a4-915f-403d-8b04-7600f15a0c1a"
      },
      "source": [
        "We've suggested a few graph ideas above.  \n",
        "\n",
        "The list below highlights those achievable with minimal computational resources, whether on a local laptop or a cloud instance. Some are simply too large.\n"
      ]
    },
    {
      "cell_type": "code",
      "execution_count": 3192,
      "id": "1631098c-1873-46c4-bf02-52ce55e83808",
      "metadata": {
        "id": "1631098c-1873-46c4-bf02-52ce55e83808",
        "outputId": "ddf4d8d0-a29a-4486-c8ea-acf22f265f0e"
      },
      "outputs": [],
      "source": [
        "# Choose your favorite graph and build your winning ansatz!\n",
        "\n",
        "graph1 = cycle_graph_c8()\n",
        "graph2 = complete_bipartite_graph_k88()\n",
        "graph3 = complete_bipartite_graph_k_nn(5)\n",
        "graph4 = regular_graph_4_8()\n",
        "graph5 = cubic_graph_3_16()\n",
        "graph6 = random_connected_graph_16(p=0.18)\n",
        "graph7 = expander_graph_n(16)\n",
        "graph8 = star_graph_8()\n",
        "#graph8 = -> make your own cool graph"
      ]
    },
    {
      "cell_type": "markdown",
      "id": "5e1e9eeb-5909-400c-8a64-c2263590b392",
      "metadata": {
        "id": "5e1e9eeb-5909-400c-8a64-c2263590b392"
      },
      "source": [
        "# Input graph"
      ]
    },
    {
      "cell_type": "code",
      "execution_count": 3193,
      "id": "7eb99bfb-eddc-483f-a379-6fd916d06551",
      "metadata": {
        "id": "7eb99bfb-eddc-483f-a379-6fd916d06551",
        "outputId": "101ce21c-2cbc-41cd-b377-eb41fcadab1e"
      },
      "outputs": [
        {
          "data": {
            "text/plain": [
              "<networkx.classes.graph.Graph at 0x1ea6bf298b0>"
            ]
          },
          "execution_count": 3193,
          "metadata": {},
          "output_type": "execute_result"
        }
      ],
      "source": [
        "graph = graph3\n",
        "graph"
      ]
    },
    {
      "cell_type": "markdown",
      "id": "f50a0bcb-fdf7-4be8-aa75-828491626dea",
      "metadata": {
        "id": "f50a0bcb-fdf7-4be8-aa75-828491626dea"
      },
      "source": [
        "Play around with all of them"
      ]
    },
    {
      "cell_type": "markdown",
      "id": "369b58a9-dbb6-429b-8319-253c656ac589",
      "metadata": {
        "id": "369b58a9-dbb6-429b-8319-253c656ac589"
      },
      "source": [
        "# Quantum Circuit Generator\n",
        "\n",
        "We start by generating parameterized circuit based on a given graph.\n",
        "\n",
        "🤔 Note: Future experiments will focus on optimizing this circuit generator (this function below).  Maximizing your score requires minimizing the number of gates in the generated parameterized circuit.\n",
        "\n",
        "**Set of Rules:**\n",
        "\n",
        "**Rules:**  Do not rename the function, import external libraries (except Qiskit), or use classical solvers. Implement any needed algorithms (e.g., sorting) within the function. Minimize gate count. Run locally for all the graphs before submitting the results.\n",
        "\n",
        "Let's iterate again.\n",
        "\n",
        "This challenge requires you to work within the provided function's name and scope.  You may only use Qiskit libraries.  Do not import additional libraries or call external functions.  If your solution requires operations like sorting, implement them directly within the function.  Critically, do *not* use a classical algorithm to solve the problem and simply input the result. Optimize your code to minimize the number of quantum gates, while aiming for the correct solutions distribution. Thoroughly get your solution results to report at the end.\n",
        "\n",
        "**Important note:** To confirm your results, please save this notebook including all cell outputs and upload it in the form here: https://forms.gle/tAjnUd7b5t3oX3b2A . To avoid exceeding the notebook's 10MB file size limit, please be mindful of the number of print statements you use. Feel free to modify the notebook as needed. However, please ensure your code is readable. Please thoroughly comment your code; we will evaluate your problem-solving approach based on the educational clarity of your explanations.\n",
        "\n",
        "Good luck, and have fun!\n"
      ]
    },
    {
      "cell_type": "code",
      "execution_count": 3194,
      "id": "c50db826-a6fb-4796-87e8-e4404c40c648",
      "metadata": {
        "id": "c50db826-a6fb-4796-87e8-e4404c40c648"
      },
      "outputs": [],
      "source": [
        "# Visualization will be performed in the cells below;\n",
        "\n",
        "def build_ansatz(graph: nx.Graph) -> QuantumCircuit:\n",
        "\n",
        "    ansatz = QuantumCircuit(graph.number_of_nodes())\n",
        "    ansatz.h(range(graph.number_of_nodes()))    # Apply hadamard to all qubits (putting in superposition)\n",
        "\n",
        "    theta = ParameterVector(r\"$\\theta$\", graph.number_of_edges())\n",
        "    for t, (u, v) in zip(theta, graph.edges):\n",
        "        ansatz.ry(t, v)\n",
        "        ansatz.cx(u, v)\n",
        "    \n",
        "    beta = ParameterVector('b', graph.number_of_nodes())\n",
        "    omega = ParameterVector('o', graph.number_of_nodes())\n",
        "    for b, o, n in zip(beta, omega, graph.nodes):\n",
        "        # ansatz.rz(b, n)\n",
        "        ansatz.rx(o, v)\n",
        "\n",
        "    return ansatz"
      ]
    },
    {
      "cell_type": "code",
      "execution_count": 3195,
      "id": "7edaa9ae",
      "metadata": {},
      "outputs": [],
      "source": [
        "# Visualization will be performed in the cells below;\n",
        "\n",
        "def build_ansatz2(graph: nx.Graph) -> QuantumCircuit:\n",
        "\n",
        "    ansatz = QuantumCircuit(graph.number_of_nodes())\n",
        "    ansatz.h(range(graph.number_of_nodes()))    # Apply hadamard to all qubits (putting in superposition)\n",
        "\n",
        "    theta = ParameterVector(r\"$\\theta$\", graph.number_of_edges())\n",
        "    for t, (u, v) in zip(theta, graph.edges):\n",
        "        ansatz.cx(u, v)\n",
        "        ansatz.ry(t, v)\n",
        "        ansatz.cx(u, v)\n",
        "\n",
        "    return ansatz"
      ]
    },
    {
      "cell_type": "markdown",
      "id": "69d39b22-4ec1-4e93-a1fd-ab0b2d414ae9",
      "metadata": {
        "id": "69d39b22-4ec1-4e93-a1fd-ab0b2d414ae9"
      },
      "source": [
        "## On Parametrized Quantum Circuits\n",
        "\n",
        "Parametrized quantum circuits (PQC) recently have gained significant attention as a prominent way to reach quantum advantage in many different fields. They are characterized by their use of varying parameters within quantum gates and can be optimized to solve specific problems, such as machine learning, quantum optimization, or quantum chemistry.\n",
        "\n",
        "PQCs usually consist of three main parts:\n",
        "\n",
        "1. Initialization: The qubits are set to a known starting state (usually $|0\\rangle$) and then set into superposition with Hadamard gates.\n",
        "2. Parameterized gates, such as rotation gates (Rx, Ry, Rz), and entanglement gates are adjustable.  Their parameters can be optimized to reflect the relationships between the encoded problem data.\n",
        "3. Measurement: After applying the parameterized gates, the qubits are measured to get results.\n",
        "\n",
        "These circuits are important elements in Variational Quantum Algorithms (VQA), hybrid quantum-classical systems where classical optimization helps to improve quantum operations. Two most notable examples of VQAs are Variational Quantum Eigensolver (VQE), an algorithm that finds a ground state energy of a given Hamiltonian, and Quantum Approximate Optimization Algorithm (QAOA), which is designed for solving combinatorial optimization problems. Near-term quantum computers are noisy and limited in size, and PQCs provide a practical way for us to use them more effectively.\n",
        "\n",
        "More on that topic:\n",
        "https://arxiv.org/abs/2207.06850"
      ]
    },
    {
      "cell_type": "markdown",
      "id": "5dd0ddb1-7d22-417e-ad34-3b05e0d22fba",
      "metadata": {
        "id": "5dd0ddb1-7d22-417e-ad34-3b05e0d22fba"
      },
      "source": [
        "## Back to the problem in hand\n",
        "This function produces parametrized quantum circuits (PQCs), a visualization of which is provided below."
      ]
    },
    {
      "cell_type": "code",
      "execution_count": 3196,
      "id": "2b4de2de-1ce6-43ff-92c8-3893c0a496bd",
      "metadata": {
        "id": "2b4de2de-1ce6-43ff-92c8-3893c0a496bd",
        "outputId": "20cb9d89-4a6f-4545-9a42-e2d6277f1de9"
      },
      "outputs": [
        {
          "data": {
            "image/png": "[encoded data removed]",
            "text/plain": [
              "<Figure size 1625.27x702.333 with 1 Axes>"
            ]
          },
          "execution_count": 3196,
          "metadata": {},
          "output_type": "execute_result"
        }
      ],
      "source": [
        "# ansatz = build_ansatz(graph)\n",
        "ansatz = build_ansatz(graph)\n",
        "ansatz.draw(\"mpl\", fold=-1)"
      ]
    },
    {
      "cell_type": "markdown",
      "id": "0fd23b56-0370-49d0-957b-12ba54687a60",
      "metadata": {
        "id": "0fd23b56-0370-49d0-957b-12ba54687a60"
      },
      "source": [
        "# Building the MaxCut Hamiltonian\n",
        "\n",
        "Formally, we write MaxCut as a [Quadratic Program (QP)][5] with binary\n",
        "decision variables as follows. For each node $v \\in V$, we let $x_v$ denote\n",
        "a binary variable indicating whether $v$ belongs to $S$ or $T$. The objective\n",
        "is to maximize the number of cut edges:\n",
        "$$\n",
        "    \\text{maximize}_x\\quad \\sum_{(v, w) \\in E} (x_v + x_w - 2 x_v x_w)\n",
        "$$\n",
        "\n",
        "Let's break this down. Notice that for each edge $e = (v, w)$ in the graph,\n",
        "the quantity $(x_v + x_w - 2 x_v x_w)$ indicates whether $e$ is *cut* by the\n",
        "partition represented by $x$; that is, the quantity $(x_v + x_w - 2 x_v x_w)$\n",
        "is zero or one, and it equals one only if $v$ and $w$ lie on different sides of\n",
        "the partition specified by $x$.\n",
        "\n",
        "The code cell below obtains a symbolic representation of the maximization\n",
        "objective corresponding to the graph above.\n",
        "\n",
        "[5]: https://en.wikipedia.org/wiki/Quadratic_programming"
      ]
    },
    {
      "cell_type": "code",
      "execution_count": 3197,
      "id": "c18efcce-daae-4acd-8d8d-a9192b72a80c",
      "metadata": {
        "id": "c18efcce-daae-4acd-8d8d-a9192b72a80c"
      },
      "outputs": [],
      "source": [
        " def build_maxcut_hamiltonian(graph: nx.Graph) -> SparsePauliOp:\n",
        "    \"\"\"\n",
        "    Build the MaxCut Hamiltonian for the given graph H = (|E|/2)*I - (1/2)*Σ_{(i,j)∈E}(Z_i Z_j)\n",
        "    \"\"\"\n",
        "    num_qubits = len(graph.nodes)\n",
        "    edges = list(graph.edges())\n",
        "    num_edges = len(edges)\n",
        "\n",
        "    pauli_terms = [\"I\"*num_qubits] # start with identity\n",
        "    coeffs = [-num_edges / 2]\n",
        "\n",
        "    for (u, v) in edges: # for each edge, add -(1/2)*Z_i Z_j\n",
        "        z_term = [\"I\"] * num_qubits\n",
        "        z_term[u] = \"Z\"\n",
        "        z_term[v] = \"Z\"\n",
        "        pauli_terms.append(\"\".join(z_term))\n",
        "        coeffs.append(0.5)\n",
        "\n",
        "    return SparsePauliOp.from_list(list(zip(pauli_terms, coeffs)))\n",
        "\n",
        "def build_2nd_hamiltonian(graph: nx.Graph) -> SparsePauliOp:\n",
        "\n",
        "    ham = build_maxcut_hamiltonian(graph)\n",
        "    ham += 0.2 * balance_penalty(graph)\n",
        "\n",
        "    return ham\n",
        "\n",
        "def build_3rd_hamiltonian(graph: nx.Graph) -> SparsePauliOp:\n",
        "    \n",
        "    ham = build_maxcut_hamiltonian(graph)\n",
        "    ham += 1 * connectivity_penalty(graph)\n",
        "\n",
        "    return ham\n",
        "\n",
        "def balance_penalty(graph: nx.Graph) -> SparsePauliOp:\n",
        "    num_qubits = graph.number_of_nodes()\n",
        "    num_edges = graph.number_of_edges()\n",
        "\n",
        "    pauli_terms = [\"I\"*num_qubits] # start with identity\n",
        "    coeffs = [-(num_qubits / 2)] \n",
        "\n",
        "    alpha = 1\n",
        "    # for each pair of nodes, add (1/4)*Z_i Z_j\n",
        "    # penalizes the partitioning of graph into unbalanced components\n",
        "    for u, v in [(a, b) for a in graph.nodes for b in graph.nodes]: \n",
        "        if u != v:\n",
        "            z_term = [\"I\"] * num_qubits\n",
        "            z_term[u] = \"Z\"\n",
        "            z_term[v] = \"Z\"\n",
        "            pauli_terms.append(\"\".join(z_term))\n",
        "            coeffs.append(-0.25 * alpha)\n",
        "\n",
        "    # Create the Hamiltonian using SparsePauliOp\n",
        "    return SparsePauliOp.from_list(list(zip(pauli_terms, coeffs)))\n",
        "\n",
        "def connectivity_penalty(graph: nx.Graph) -> SparsePauliOp:\n",
        "    # Connectivity penalty: If both nodes of an edge are in the same partition, penalize it\n",
        "    # For simplicity, assume each node can be in a different partition; we will add the penalty here.\n",
        "    num_qubits = len(graph.nodes)\n",
        "    edges = list(graph.edges())\n",
        "    num_edges = len(edges)\n",
        "\n",
        "    # MaxCut Hamiltonian terms\n",
        "    pauli_terms = [\"I\" * num_qubits]  # Start with identity\n",
        "    coeffs = [-num_edges / 2]\n",
        "    connectivity_penalty_terms = []\n",
        "    \n",
        "    for (u, v) in edges:\n",
        "        # This is a simple approximation of connectivity by checking how many edges are in the same partition.\n",
        "        # We penalize if the edge is \"inside\" a partition.\n",
        "        penalty_term = [\"I\"] * num_qubits\n",
        "        penalty_term[u] = \"Z\"\n",
        "        penalty_term[v] = \"Z\"\n",
        "        connectivity_penalty_terms.append((\"\".join(penalty_term), 0.5))\n",
        "\n",
        "    # Combine the Max-Cut and the connectivity penalty terms\n",
        "    for term, penalty in connectivity_penalty_terms:\n",
        "        pauli_terms.append(term)\n",
        "        coeffs.append(penalty)\n",
        "    \n",
        "    # Return the Hamiltonian with the Max-Cut and connectivity penalty terms\n",
        "    return SparsePauliOp.from_list(list(zip(pauli_terms, coeffs)))\n",
        "\n",
        "def build_maxcut_with_connectivity_penalty(graph: nx.Graph, penalty_factor: float = 1.0) -> SparsePauliOp:\n",
        "    \"\"\"\n",
        "    Build the MaxCut Hamiltonian for the given graph with a connectivity penalty to prioritize connected partitions.\n",
        "    \n",
        "    MaxCut Hamiltonian: H = (|E|/2)*I - (1/2)*Σ_{(i,j)∈E}(Z_i Z_j)\n",
        "    Connectivity Penalty: Add penalty if partitions are not connected\n",
        "    \n",
        "    penalty_factor controls the strength of the penalty for disconnectedness.\n",
        "    \"\"\"\n",
        "    num_qubits = len(graph.nodes)\n",
        "    edges = list(graph.edges())\n",
        "    num_edges = len(edges)\n",
        "\n",
        "    # MaxCut Hamiltonian terms\n",
        "    pauli_terms = [\"I\" * num_qubits]  # Start with identity\n",
        "    coeffs = [-num_edges / 2]\n",
        "\n",
        "    # Add the Max-Cut terms: -(1/2) * Z_i Z_j for each edge (u, v)\n",
        "    for (u, v) in edges:\n",
        "        z_term = [\"I\"] * num_qubits\n",
        "        z_term[u] = \"Z\"\n",
        "        z_term[v] = \"Z\"\n",
        "        pauli_terms.append(\"\".join(z_term))\n",
        "        coeffs.append(0.5)\n",
        "\n",
        "    # Connectivity penalty: If both nodes of an edge are in the same partition, penalize it\n",
        "    # For simplicity, assume each node can be in a different partition; we will add the penalty here.\n",
        "    \n",
        "    connectivity_penalty_terms = []\n",
        "    for (u, v) in edges:\n",
        "        # This is a simple approximation of connectivity by checking how many edges are in the same partition.\n",
        "        # We penalize if the edge is \"inside\" a partition.\n",
        "        penalty_term = [\"I\"] * num_qubits\n",
        "        penalty_term[u] = \"Z\"\n",
        "        penalty_term[v] = \"Z\"\n",
        "        connectivity_penalty_terms.append((\"\".join(penalty_term), penalty_factor))\n",
        "\n",
        "    # Combine the Max-Cut and the connectivity penalty terms\n",
        "    for term, penalty in connectivity_penalty_terms:\n",
        "        pauli_terms.append(term)\n",
        "        coeffs.append(penalty)\n",
        "    \n",
        "    # Return the Hamiltonian with the Max-Cut and connectivity penalty terms\n",
        "    return SparsePauliOp.from_list(list(zip(pauli_terms, coeffs)))\n"
      ]
    },
    {
      "cell_type": "markdown",
      "id": "f22417c2-ab3a-4b8f-8bba-fbc3a394d6ab",
      "metadata": {
        "id": "f22417c2-ab3a-4b8f-8bba-fbc3a394d6ab"
      },
      "source": [
        "Let's keep this function contained within its own cell, as you might need to adapt it for various max-cut problem types later."
      ]
    },
    {
      "cell_type": "code",
      "execution_count": 3198,
      "id": "45ba1ff9-c237-4955-bf48-46fbcfec7aa3",
      "metadata": {
        "id": "45ba1ff9-c237-4955-bf48-46fbcfec7aa3",
        "outputId": "7235d576-2732-4af5-9b24-38d293486a82"
      },
      "outputs": [
        {
          "data": {
            "text/plain": [
              "SparsePauliOp(['IIIIIIII', 'ZZIIIIII', 'ZIIIIIIZ', 'IZZIIIII', 'IIZZIIII', 'IIIZZIII', 'IIIIZZII', 'IIIIIZZI', 'IIIIIIZZ', 'IIIIIIII', 'ZZIIIIII', 'ZIZIIIII', 'ZIIZIIII', 'ZIIIZIII', 'ZIIIIZII', 'ZIIIIIZI', 'ZIIIIIIZ', 'ZZIIIIII', 'IZZIIIII', 'IZIZIIII', 'IZIIZIII', 'IZIIIZII', 'IZIIIIZI', 'IZIIIIIZ', 'ZIZIIIII', 'IZZIIIII', 'IIZZIIII', 'IIZIZIII', 'IIZIIZII', 'IIZIIIZI', 'IIZIIIIZ', 'ZIIZIIII', 'IZIZIIII', 'IIZZIIII', 'IIIZZIII', 'IIIZIZII', 'IIIZIIZI', 'IIIZIIIZ', 'ZIIIZIII', 'IZIIZIII', 'IIZIZIII', 'IIIZZIII', 'IIIIZZII', 'IIIIZIZI', 'IIIIZIIZ', 'ZIIIIZII', 'IZIIIZII', 'IIZIIZII', 'IIIZIZII', 'IIIIZZII', 'IIIIIZZI', 'IIIIIZIZ', 'ZIIIIIZI', 'IZIIIIZI', 'IIZIIIZI', 'IIIZIIZI', 'IIIIZIZI', 'IIIIIZZI', 'IIIIIIZZ', 'ZIIIIIIZ', 'IZIIIIIZ', 'IIZIIIIZ', 'IIIZIIIZ', 'IIIIZIIZ', 'IIIIIZIZ', 'IIIIIIZZ'],\n",
              "              coeffs=[-4.  +0.j,  0.5 +0.j,  0.5 +0.j,  0.5 +0.j,  0.5 +0.j,  0.5 +0.j,\n",
              "  0.5 +0.j,  0.5 +0.j,  0.5 +0.j, -0.8 +0.j, -0.05+0.j, -0.05+0.j,\n",
              " -0.05+0.j, -0.05+0.j, -0.05+0.j, -0.05+0.j, -0.05+0.j, -0.05+0.j,\n",
              " -0.05+0.j, -0.05+0.j, -0.05+0.j, -0.05+0.j, -0.05+0.j, -0.05+0.j,\n",
              " -0.05+0.j, -0.05+0.j, -0.05+0.j, -0.05+0.j, -0.05+0.j, -0.05+0.j,\n",
              " -0.05+0.j, -0.05+0.j, -0.05+0.j, -0.05+0.j, -0.05+0.j, -0.05+0.j,\n",
              " -0.05+0.j, -0.05+0.j, -0.05+0.j, -0.05+0.j, -0.05+0.j, -0.05+0.j,\n",
              " -0.05+0.j, -0.05+0.j, -0.05+0.j, -0.05+0.j, -0.05+0.j, -0.05+0.j,\n",
              " -0.05+0.j, -0.05+0.j, -0.05+0.j, -0.05+0.j, -0.05+0.j, -0.05+0.j,\n",
              " -0.05+0.j, -0.05+0.j, -0.05+0.j, -0.05+0.j, -0.05+0.j, -0.05+0.j,\n",
              " -0.05+0.j, -0.05+0.j, -0.05+0.j, -0.05+0.j, -0.05+0.j, -0.05+0.j])"
            ]
          },
          "execution_count": 3198,
          "metadata": {},
          "output_type": "execute_result"
        }
      ],
      "source": [
        "ham = build_2nd_hamiltonian(graph)\n",
        "ham"
      ]
    },
    {
      "cell_type": "markdown",
      "id": "1131247e-81e6-4e56-9e5a-8cfa7e7486de",
      "metadata": {
        "id": "1131247e-81e6-4e56-9e5a-8cfa7e7486de"
      },
      "source": [
        "## As a Hamiltonian energy minimization problem\n",
        "### Quantum MaxCut\n",
        "\n",
        "Quantum computers are good at finding the ground state of particle systems\n",
        "evolving under the action of a given Hamiltonian. In this section, we'll\n",
        "construct a Hamiltonian whose energies are exactly the values of the MaxCut\n",
        "objective function. This correspondence will effectively translate our\n",
        "classical combinatorial optimization problem into a quantum problem, which\n",
        "we'll approach using our novel heuristic.\n",
        "\n",
        "Given an objective function $C(x)$, with domain $x \\in \\{0, 1\\}^n$, we'll\n",
        "produce a Hamiltonian $H_C$ on $n$ qubits such that\n",
        "$$\n",
        "    H_C \\ket{x} = C(x) \\ket{x}.\n",
        "$$\n",
        "In the last equation, $\\ket{x}$ denotes the $n$-qubit\n",
        "[computational basis][10] state indexed by the bit-string $x \\in \\{0, 1\\}$.\n",
        "Thus the last equation says each of the $2^n$ computational basis states is an\n",
        "eigenvector of $H_C$, and the eigenvalue corresponding to $\\ket{x}$ is $C(x)$;\n",
        "that is, $H_C$ is diagonal with respect to the computational basis, and its\n",
        "energies are the values of the objective function $C$.\n",
        "\n",
        "We'll obtain the Hamiltonian $H_C$ by replacing each $x_j$ in the expression of\n",
        "$C(x)$ by the operator\n",
        "$$\n",
        "    \\hat{X}_j \\coloneqq \\frac{1}{2}(I - Z_j),\n",
        "$$\n",
        "where $I$ denotes the identity operator on $n$ qubits and $Z_j$ denotes the\n",
        "[Pauli-Z][11] operator acting on the $j$th qubit. Notice that $\\hat{X}_j$ is\n",
        "diagonal with respect to the computational basis, and its eigenvalues are zero\n",
        "and one; in particular,\n",
        "$$\n",
        "    \\hat{X}_j \\ket{x} = x_j \\ket{x}.\n",
        "$$\n",
        "\n",
        "### MaxCut Hamiltonian\n",
        "\n",
        "When we apply the Ising map construction to the MaxCut objective\n",
        "$$\n",
        "    M(x) = \\sum_{(v, w) \\in E} (x_v + x_w - 2 x_v x_w)\n",
        "$$\n",
        "we obtain the Hamiltonian\n",
        "$$\n",
        "    H_M = \\sum_{(v, w) \\in E} (X_v + X_w - 2 X_v X_w)\n",
        "    = \\frac{1}{2} \\sum_{(v, w) \\in E} \\big(2 I - Z_v - Z_w - (I - Z_v)(I - Z_w)\\big)\n",
        "    = \\frac{1}{2}|E| - \\frac{1}{2} \\sum_{(v, w) \\in E} Z_v Z_w.\n",
        "$$\n",
        "In the last equation, $|E|$ denotes the number of edges in the graph.\n",
        "\n",
        "\n",
        "[10]: https://en.wikipedia.org/wiki/Qubit#Standard_representation\n",
        "[11]: https://en.wikipedia.org/wiki/Pauli_matrices"
      ]
    },
    {
      "cell_type": "markdown",
      "id": "c53272c2-029d-4c4c-8706-4ca092c114ac",
      "metadata": {
        "id": "c53272c2-029d-4c4c-8706-4ca092c114ac"
      },
      "source": [
        "## Energy minimization via QITE\n",
        "### Enter varQITE\n",
        "\n",
        "With the MaxCut Hamiltonian in hand, we can turn to minimizing its energy using\n",
        "our [novel quantum-classical varQITE heuristic][1]. Much like any Variataional\n",
        "Quantum Algorithm (VQA), our novel varQITE method provides a recipe for\n",
        "iteratively updating the parameters in a variational quantum circuit to\n",
        "minimize the expectation value of the MaxCut Hamiltonian, measured with respect\n",
        "to the parametrized state.\n",
        "\n",
        "A key novelty is that our varQITE algorithm does *not* rely on a classical\n",
        "optimizer to update the circuit parameters; instead, it specifies an explicit\n",
        "update rule based on the solution of a system linear Ordinary Differential\n",
        "Equations (ODEs). The ODEs relate the gradient of the variational circuit\n",
        "parameters to the expected value of certain operators related to the MaxCut\n",
        "Hamiltonian, and they are derived from an [Ehrenfest Theorem][3] that applies\n",
        "to [imaginary time evolution][4]. For details, see Equation (5) in our [varQITE\n",
        "paper][1].\n",
        "\n",
        "In any case, setting up the ODE system at each step of the algorithm requires\n",
        "executing a batch of quantum circuits and running some post-processing to\n",
        "evaluate the results.\n",
        "\n",
        "The code cell below illustrates how to set up the variational ansatz\n",
        "$\\ket{\\Psi(\\theta)}$ introduced by our [varQITE paper][1] in Equation (2).\n",
        "We'll set up the required circuits and the ODEs further down.\n",
        "\n",
        "[1]: https://arxiv.org/abs/2404.16135\n",
        "[2]: https://www.nature.com/articles/s42254-021-00348-9\n",
        "[3]: https://en.wikipedia.org/wiki/Ehrenfest_theorem\n",
        "[4]: https://en.wikipedia.org/wiki/Imaginary_time"
      ]
    },
    {
      "cell_type": "markdown",
      "id": "9edcdbe7-6b09-4676-9b59-0a0673794692",
      "metadata": {
        "id": "9edcdbe7-6b09-4676-9b59-0a0673794692"
      },
      "source": [
        "Below is simplified version of Quantum Imaginary Time Evolution (QITE). It uses a finite differences approach to estimate gradients, then performs gradient descent updates."
      ]
    },
    {
      "cell_type": "code",
      "execution_count": 3199,
      "id": "ec8a44fc-3ede-446a-87f8-3cf8d71f06f3",
      "metadata": {
        "id": "ec8a44fc-3ede-446a-87f8-3cf8d71f06f3"
      },
      "outputs": [],
      "source": [
        "class QITEvolver:\n",
        "    \"\"\"\n",
        "    A class to evolve a parametrized quantum state under the action of an Ising\n",
        "    Hamiltonian according to the variational Quantum Imaginary Time Evolution\n",
        "    (QITE) principle described in IonQ's latest joint paper with ORNL.\n",
        "    \"\"\"\n",
        "    def __init__(self, hamiltonian: SparsePauliOp, ansatz: QuantumCircuit):\n",
        "        self.hamiltonian = hamiltonian\n",
        "        self.ansatz = ansatz\n",
        "\n",
        "        # Define some constants\n",
        "        self.backend = AerSimulator()\n",
        "        self.num_shots = 1000\n",
        "        self.energies, self.param_vals, self.runtime = list(), list(), list()\n",
        "\n",
        "    def evolve(self, num_steps: int, lr: float = 0.05, verbose: bool = True):\n",
        "        \"\"\"\n",
        "        Evolve the variational quantum state encoded by ``self.ansatz`` under\n",
        "        the action of ``self.hamiltonian`` according to varQITE.\n",
        "        \"\"\"\n",
        "        curr_params = np.zeros(self.ansatz.num_parameters)\n",
        "        velocity = np.zeros(self.ansatz.num_parameters)\n",
        "        for k in range(num_steps):\n",
        "            # Get circuits and measure on backend\n",
        "            iter_qc = self.get_iteration_circuits(curr_params)\n",
        "            job = self.backend.run(iter_qc, shots=self.num_shots)\n",
        "            q0 = time.time()\n",
        "            measurements = job.result().get_counts()\n",
        "            quantum_exec_time = time.time() - q0\n",
        "\n",
        "            # Update parameters-- set up defining ODE and step forward\n",
        "            Gmat, dvec, curr_energy = self.get_defining_ode(measurements)\n",
        "            dcurr_params = np.linalg.lstsq(Gmat, dvec, rcond=1e-2)[0]\n",
        "\n",
        "            curr_params += lr * dcurr_params\n",
        "\n",
        "            # Progress checkpoint!\n",
        "            if verbose:\n",
        "                self.print_status(measurements)\n",
        "            self.energies.append(curr_energy)\n",
        "            self.param_vals.append(curr_params.copy())\n",
        "            self.runtime.append(quantum_exec_time)\n",
        "\n",
        "    def get_defining_ode(self, measurements: List[dict[str, int]]):\n",
        "        \"\"\"\n",
        "        Construct the dynamics matrix and load vector defining the varQITE\n",
        "        iteration.\n",
        "        \"\"\"\n",
        "        # Load sampled bitstrings and corresponding frequencies into NumPy arrays\n",
        "        dtype = np.dtype([(\"states\", int, (self.ansatz.num_qubits,)), (\"counts\", \"f\")])\n",
        "        measurements = [np.fromiter(map(lambda kv: (list(kv[0]), kv[1]), res.items()), dtype) for res in measurements]\n",
        "\n",
        "        # Set up the dynamics matrix by computing the gradient of each Pauli word\n",
        "        # with respect to each parameter in the ansatz using the parameter-shift rule\n",
        "        pauli_terms = [SparsePauliOp(op) for op, _ in self.hamiltonian.label_iter() if set(op) != set(\"I\")]\n",
        "        Gmat = np.zeros((len(pauli_terms), self.ansatz.num_parameters))\n",
        "        for i, pauli_word in enumerate(pauli_terms):\n",
        "            for j, jth_pair in enumerate(zip(measurements[1::2], measurements[2::2])):\n",
        "                for pm, pm_shift in enumerate(jth_pair):\n",
        "                    Gmat[i, j] += (-1)**pm * expected_energy(pauli_word, pm_shift)\n",
        "\n",
        "        # Set up the load vector\n",
        "        curr_energy = expected_energy(self.hamiltonian, measurements[0])\n",
        "        dvec = np.zeros(len(pauli_terms))\n",
        "        for i, pauli_word in enumerate(pauli_terms):\n",
        "            rhs_op_energies = get_ising_energies(pauli_word, measurements[0][\"states\"])\n",
        "            rhs_op_energies *= get_ising_energies(self.hamiltonian, measurements[0][\"states\"]) - curr_energy\n",
        "            dvec[i] = -np.dot(rhs_op_energies, measurements[0][\"counts\"]) / self.num_shots\n",
        "        return Gmat, dvec, curr_energy\n",
        "\n",
        "    def get_iteration_circuits(self, curr_params: np.array):\n",
        "        \"\"\"\n",
        "        Get the bound circuits that need to be evaluated to step forward\n",
        "        according to QITE.\n",
        "        \"\"\"\n",
        "        # Use this circuit to estimate your Hamiltonian's expected value\n",
        "        circuits = [self.ansatz.assign_parameters(curr_params)]\n",
        "\n",
        "        # Use these circuits to compute gradients\n",
        "        for k in np.arange(curr_params.shape[0]):\n",
        "            for j in range(2):\n",
        "                pm_shift = curr_params.copy()\n",
        "                pm_shift[k] += (-1)**j * np.pi/2\n",
        "                circuits += [self.ansatz.assign_parameters(pm_shift)]\n",
        "\n",
        "        # Add measurement gates and return\n",
        "        [qc.measure_all() for qc in circuits]\n",
        "        return circuits\n",
        "\n",
        "    def plot_convergence(self):\n",
        "        \"\"\"\n",
        "        Plot the convergence of the expected value of ``self.hamiltonian`` with\n",
        "        respect to the (imaginary) time steps.\n",
        "        \"\"\"\n",
        "        plt.plot(self.energies)\n",
        "        plt.xlabel(\"(Imaginary) Time step\")\n",
        "        plt.ylabel(\"Hamiltonian energy\")\n",
        "        plt.title(\"Convergence of the expected energy\")\n",
        "\n",
        "    def print_status(self, measurements):\n",
        "        \"\"\"\n",
        "        Print summary statistics describing a QITE run.\n",
        "        \"\"\"\n",
        "        stats = pd.DataFrame({\n",
        "            \"curr_energy\": self.energies,\n",
        "            \"num_circuits\": [len(measurements)] * len(self.energies),\n",
        "            \"quantum_exec_time\": self.runtime\n",
        "        })\n",
        "        stats.index.name = \"step\"\n",
        "        display.clear_output(wait=True)\n",
        "        display.display(stats)"
      ]
    },
    {
      "cell_type": "markdown",
      "id": "0551a33f-52f2-449f-9594-d2971872d886",
      "metadata": {
        "id": "0551a33f-52f2-449f-9594-d2971872d886"
      },
      "source": [
        "A few utility functions:"
      ]
    },
    {
      "cell_type": "code",
      "execution_count": 3200,
      "id": "f5362bfd-3777-4b9d-bb99-35ef50855a5d",
      "metadata": {
        "id": "f5362bfd-3777-4b9d-bb99-35ef50855a5d"
      },
      "outputs": [],
      "source": [
        "def compute_cut_size(graph, bitstring):\n",
        "    \"\"\"\n",
        "    Get the cut size of the partition of ``graph`` described by the given\n",
        "    ``bitstring``.\n",
        "    \"\"\"\n",
        "    cut_sz = 0\n",
        "    for (u, v) in graph.edges:\n",
        "        if bitstring[u] != bitstring[v]:\n",
        "            cut_sz += 1\n",
        "    return cut_sz"
      ]
    },
    {
      "cell_type": "code",
      "execution_count": 3201,
      "id": "cd3a69a0-e32b-4cf6-9f24-da3410506112",
      "metadata": {
        "id": "cd3a69a0-e32b-4cf6-9f24-da3410506112"
      },
      "outputs": [],
      "source": [
        "def get_ising_energies(\n",
        "        operator: SparsePauliOp,\n",
        "        states: np.array\n",
        "    ):\n",
        "    \"\"\"\n",
        "    Get the energies of the given Ising ``operator`` that correspond to the\n",
        "    given ``states``.\n",
        "    \"\"\"\n",
        "    # Unroll Hamiltonian data into NumPy arrays\n",
        "    paulis = np.array([list(ops) for ops, _ in operator.label_iter()]) != \"I\"\n",
        "    coeffs = operator.coeffs.real\n",
        "\n",
        "    # Vectorized energies computation\n",
        "    energies = (-1) ** (states @ paulis.T) @ coeffs\n",
        "    return energies"
      ]
    },
    {
      "cell_type": "code",
      "execution_count": 3202,
      "id": "945d527c-285d-49d3-8e8e-3230400140ef",
      "metadata": {
        "id": "945d527c-285d-49d3-8e8e-3230400140ef"
      },
      "outputs": [],
      "source": [
        "def expected_energy(\n",
        "        hamiltonian: SparsePauliOp,\n",
        "        measurements: np.array\n",
        "):\n",
        "    \"\"\"\n",
        "    Compute the expected energy of the given ``hamiltonian`` with respect to\n",
        "    the observed ``measurement``.\n",
        "\n",
        "    The latter is assumed to by a NumPy records array with fields ``states``\n",
        "    --describing the observed bit-strings as an integer array-- and ``counts``,\n",
        "    describing the corresponding observed frequency of each state.\n",
        "    \"\"\"\n",
        "    energies = get_ising_energies(hamiltonian, measurements[\"states\"])\n",
        "    return np.dot(energies, measurements[\"counts\"]) / measurements[\"counts\"].sum()"
      ]
    },
    {
      "cell_type": "code",
      "execution_count": 3203,
      "id": "065d10f0-d056-4a25-8645-12ad644bd4a8",
      "metadata": {
        "id": "065d10f0-d056-4a25-8645-12ad644bd4a8"
      },
      "outputs": [],
      "source": [
        "def interpret_solution(graph, bitstring):\n",
        "    \"\"\"\n",
        "    Visualize the given ``bitstring`` as a partition of the given ``graph``.\n",
        "    \"\"\"\n",
        "    pos = nx.spring_layout(graph, seed=42)\n",
        "    set_0 = [i for i, b in enumerate(bitstring) if b == '0']\n",
        "    set_1 = [i for i, b in enumerate(bitstring) if b == '1']\n",
        "\n",
        "    plt.figure(figsize=(4, 4))\n",
        "    nx.draw_networkx_nodes(graph, pos=pos, nodelist=set_0, node_color='blue', node_size=700)\n",
        "    nx.draw_networkx_nodes(graph, pos=pos, nodelist=set_1, node_color='red', node_size=700)\n",
        "\n",
        "    cut_edges = []\n",
        "    non_cut_edges = []\n",
        "    for (u, v) in graph.edges:\n",
        "        if bitstring[u] != bitstring[v]:\n",
        "            cut_edges.append((u, v))\n",
        "        else:\n",
        "            non_cut_edges.append((u, v))\n",
        "\n",
        "    nx.draw_networkx_edges(graph, pos=pos, edgelist=non_cut_edges, edge_color='gray', width=2)\n",
        "    nx.draw_networkx_edges(graph, pos=pos, edgelist=cut_edges, edge_color='green', width=2, style='dashed')\n",
        "\n",
        "    nx.draw_networkx_labels(graph, pos=pos, font_color='white', font_weight='bold')\n",
        "    plt.axis('off')\n",
        "    plt.show()"
      ]
    },
    {
      "cell_type": "code",
      "execution_count": 3204,
      "id": "192e3c7f-1d7f-4de6-8448-9a11ed450d68",
      "metadata": {
        "id": "192e3c7f-1d7f-4de6-8448-9a11ed450d68",
        "outputId": "eb5e6544-b07d-4b98-c780-5b2cf6769a7d"
      },
      "outputs": [
        {
          "data": {
            "text/html": [
              "<div>\n",
              "<style scoped>\n",
              "    .dataframe tbody tr th:only-of-type {\n",
              "        vertical-align: middle;\n",
              "    }\n",
              "\n",
              "    .dataframe tbody tr th {\n",
              "        vertical-align: top;\n",
              "    }\n",
              "\n",
              "    .dataframe thead th {\n",
              "        text-align: right;\n",
              "    }\n",
              "</style>\n",
              "<table border=\"1\" class=\"dataframe\">\n",
              "  <thead>\n",
              "    <tr style=\"text-align: right;\">\n",
              "      <th></th>\n",
              "      <th>curr_energy</th>\n",
              "      <th>num_circuits</th>\n",
              "      <th>quantum_exec_time</th>\n",
              "    </tr>\n",
              "    <tr>\n",
              "      <th>step</th>\n",
              "      <th></th>\n",
              "      <th></th>\n",
              "      <th></th>\n",
              "    </tr>\n",
              "  </thead>\n",
              "  <tbody>\n",
              "    <tr>\n",
              "      <th>0</th>\n",
              "      <td>-4.7454</td>\n",
              "      <td>33</td>\n",
              "      <td>0.231358</td>\n",
              "    </tr>\n",
              "    <tr>\n",
              "      <th>1</th>\n",
              "      <td>-4.9938</td>\n",
              "      <td>33</td>\n",
              "      <td>0.171284</td>\n",
              "    </tr>\n",
              "    <tr>\n",
              "      <th>2</th>\n",
              "      <td>-5.2304</td>\n",
              "      <td>33</td>\n",
              "      <td>0.270863</td>\n",
              "    </tr>\n",
              "    <tr>\n",
              "      <th>3</th>\n",
              "      <td>-5.5072</td>\n",
              "      <td>33</td>\n",
              "      <td>0.257724</td>\n",
              "    </tr>\n",
              "    <tr>\n",
              "      <th>4</th>\n",
              "      <td>-5.3588</td>\n",
              "      <td>33</td>\n",
              "      <td>0.225528</td>\n",
              "    </tr>\n",
              "    <tr>\n",
              "      <th>5</th>\n",
              "      <td>-5.4972</td>\n",
              "      <td>33</td>\n",
              "      <td>0.270663</td>\n",
              "    </tr>\n",
              "    <tr>\n",
              "      <th>6</th>\n",
              "      <td>-5.7234</td>\n",
              "      <td>33</td>\n",
              "      <td>0.298596</td>\n",
              "    </tr>\n",
              "    <tr>\n",
              "      <th>7</th>\n",
              "      <td>-6.0870</td>\n",
              "      <td>33</td>\n",
              "      <td>0.245824</td>\n",
              "    </tr>\n",
              "    <tr>\n",
              "      <th>8</th>\n",
              "      <td>-6.3222</td>\n",
              "      <td>33</td>\n",
              "      <td>0.275357</td>\n",
              "    </tr>\n",
              "    <tr>\n",
              "      <th>9</th>\n",
              "      <td>-6.5012</td>\n",
              "      <td>33</td>\n",
              "      <td>0.279400</td>\n",
              "    </tr>\n",
              "    <tr>\n",
              "      <th>10</th>\n",
              "      <td>-6.7184</td>\n",
              "      <td>33</td>\n",
              "      <td>0.198796</td>\n",
              "    </tr>\n",
              "    <tr>\n",
              "      <th>11</th>\n",
              "      <td>-6.7706</td>\n",
              "      <td>33</td>\n",
              "      <td>0.274880</td>\n",
              "    </tr>\n",
              "    <tr>\n",
              "      <th>12</th>\n",
              "      <td>-6.9232</td>\n",
              "      <td>33</td>\n",
              "      <td>0.230425</td>\n",
              "    </tr>\n",
              "    <tr>\n",
              "      <th>13</th>\n",
              "      <td>-6.8276</td>\n",
              "      <td>33</td>\n",
              "      <td>0.218976</td>\n",
              "    </tr>\n",
              "    <tr>\n",
              "      <th>14</th>\n",
              "      <td>-6.9874</td>\n",
              "      <td>33</td>\n",
              "      <td>0.150574</td>\n",
              "    </tr>\n",
              "    <tr>\n",
              "      <th>15</th>\n",
              "      <td>-7.1032</td>\n",
              "      <td>33</td>\n",
              "      <td>0.213856</td>\n",
              "    </tr>\n",
              "    <tr>\n",
              "      <th>16</th>\n",
              "      <td>-7.1496</td>\n",
              "      <td>33</td>\n",
              "      <td>0.245948</td>\n",
              "    </tr>\n",
              "    <tr>\n",
              "      <th>17</th>\n",
              "      <td>-7.2994</td>\n",
              "      <td>33</td>\n",
              "      <td>0.162010</td>\n",
              "    </tr>\n",
              "    <tr>\n",
              "      <th>18</th>\n",
              "      <td>-7.4204</td>\n",
              "      <td>33</td>\n",
              "      <td>0.182213</td>\n",
              "    </tr>\n",
              "    <tr>\n",
              "      <th>19</th>\n",
              "      <td>-7.1850</td>\n",
              "      <td>33</td>\n",
              "      <td>0.214961</td>\n",
              "    </tr>\n",
              "    <tr>\n",
              "      <th>20</th>\n",
              "      <td>-7.3652</td>\n",
              "      <td>33</td>\n",
              "      <td>0.338078</td>\n",
              "    </tr>\n",
              "    <tr>\n",
              "      <th>21</th>\n",
              "      <td>-7.3318</td>\n",
              "      <td>33</td>\n",
              "      <td>0.214088</td>\n",
              "    </tr>\n",
              "    <tr>\n",
              "      <th>22</th>\n",
              "      <td>-7.5298</td>\n",
              "      <td>33</td>\n",
              "      <td>0.250129</td>\n",
              "    </tr>\n",
              "    <tr>\n",
              "      <th>23</th>\n",
              "      <td>-7.6526</td>\n",
              "      <td>33</td>\n",
              "      <td>0.480545</td>\n",
              "    </tr>\n",
              "    <tr>\n",
              "      <th>24</th>\n",
              "      <td>-7.7876</td>\n",
              "      <td>33</td>\n",
              "      <td>0.299038</td>\n",
              "    </tr>\n",
              "    <tr>\n",
              "      <th>25</th>\n",
              "      <td>-7.8768</td>\n",
              "      <td>33</td>\n",
              "      <td>0.212844</td>\n",
              "    </tr>\n",
              "    <tr>\n",
              "      <th>26</th>\n",
              "      <td>-7.9696</td>\n",
              "      <td>33</td>\n",
              "      <td>0.220568</td>\n",
              "    </tr>\n",
              "    <tr>\n",
              "      <th>27</th>\n",
              "      <td>-8.0896</td>\n",
              "      <td>33</td>\n",
              "      <td>0.224649</td>\n",
              "    </tr>\n",
              "    <tr>\n",
              "      <th>28</th>\n",
              "      <td>-8.1840</td>\n",
              "      <td>33</td>\n",
              "      <td>0.249940</td>\n",
              "    </tr>\n",
              "    <tr>\n",
              "      <th>29</th>\n",
              "      <td>-8.2430</td>\n",
              "      <td>33</td>\n",
              "      <td>0.301440</td>\n",
              "    </tr>\n",
              "    <tr>\n",
              "      <th>30</th>\n",
              "      <td>-8.2626</td>\n",
              "      <td>33</td>\n",
              "      <td>0.273901</td>\n",
              "    </tr>\n",
              "    <tr>\n",
              "      <th>31</th>\n",
              "      <td>-8.3280</td>\n",
              "      <td>33</td>\n",
              "      <td>0.236113</td>\n",
              "    </tr>\n",
              "    <tr>\n",
              "      <th>32</th>\n",
              "      <td>-8.3508</td>\n",
              "      <td>33</td>\n",
              "      <td>0.282541</td>\n",
              "    </tr>\n",
              "    <tr>\n",
              "      <th>33</th>\n",
              "      <td>-8.3604</td>\n",
              "      <td>33</td>\n",
              "      <td>0.266531</td>\n",
              "    </tr>\n",
              "    <tr>\n",
              "      <th>34</th>\n",
              "      <td>-8.3604</td>\n",
              "      <td>33</td>\n",
              "      <td>0.221149</td>\n",
              "    </tr>\n",
              "    <tr>\n",
              "      <th>35</th>\n",
              "      <td>-8.3836</td>\n",
              "      <td>33</td>\n",
              "      <td>0.357259</td>\n",
              "    </tr>\n",
              "    <tr>\n",
              "      <th>36</th>\n",
              "      <td>-8.3744</td>\n",
              "      <td>33</td>\n",
              "      <td>0.161547</td>\n",
              "    </tr>\n",
              "    <tr>\n",
              "      <th>37</th>\n",
              "      <td>-8.3818</td>\n",
              "      <td>33</td>\n",
              "      <td>0.198328</td>\n",
              "    </tr>\n",
              "    <tr>\n",
              "      <th>38</th>\n",
              "      <td>-8.3856</td>\n",
              "      <td>33</td>\n",
              "      <td>0.236477</td>\n",
              "    </tr>\n",
              "  </tbody>\n",
              "</table>\n",
              "</div>"
            ],
            "text/plain": [
              "      curr_energy  num_circuits  quantum_exec_time\n",
              "step                                              \n",
              "0         -4.7454            33           0.231358\n",
              "1         -4.9938            33           0.171284\n",
              "2         -5.2304            33           0.270863\n",
              "3         -5.5072            33           0.257724\n",
              "4         -5.3588            33           0.225528\n",
              "5         -5.4972            33           0.270663\n",
              "6         -5.7234            33           0.298596\n",
              "7         -6.0870            33           0.245824\n",
              "8         -6.3222            33           0.275357\n",
              "9         -6.5012            33           0.279400\n",
              "10        -6.7184            33           0.198796\n",
              "11        -6.7706            33           0.274880\n",
              "12        -6.9232            33           0.230425\n",
              "13        -6.8276            33           0.218976\n",
              "14        -6.9874            33           0.150574\n",
              "15        -7.1032            33           0.213856\n",
              "16        -7.1496            33           0.245948\n",
              "17        -7.2994            33           0.162010\n",
              "18        -7.4204            33           0.182213\n",
              "19        -7.1850            33           0.214961\n",
              "20        -7.3652            33           0.338078\n",
              "21        -7.3318            33           0.214088\n",
              "22        -7.5298            33           0.250129\n",
              "23        -7.6526            33           0.480545\n",
              "24        -7.7876            33           0.299038\n",
              "25        -7.8768            33           0.212844\n",
              "26        -7.9696            33           0.220568\n",
              "27        -8.0896            33           0.224649\n",
              "28        -8.1840            33           0.249940\n",
              "29        -8.2430            33           0.301440\n",
              "30        -8.2626            33           0.273901\n",
              "31        -8.3280            33           0.236113\n",
              "32        -8.3508            33           0.282541\n",
              "33        -8.3604            33           0.266531\n",
              "34        -8.3604            33           0.221149\n",
              "35        -8.3836            33           0.357259\n",
              "36        -8.3744            33           0.161547\n",
              "37        -8.3818            33           0.198328\n",
              "38        -8.3856            33           0.236477"
            ]
          },
          "metadata": {},
          "output_type": "display_data"
        },
        {
          "name": "stdout",
          "output_type": "stream",
          "text": [
            "CPU times: total: 1min 33s\n",
            "Wall time: 20 s\n"
          ]
        },
        {
          "data": {
            "image/png": "[encoded data removed]",
            "text/plain": [
              "<Figure size 640x480 with 1 Axes>"
            ]
          },
          "metadata": {},
          "output_type": "display_data"
        }
      ],
      "source": [
        "%%time\n",
        "\n",
        "# Set up your QITEvolver and evolve!\n",
        "qit_evolver = QITEvolver(ham, ansatz)\n",
        "qit_evolver.evolve(num_steps=40, lr=0.4, verbose=True) # lr was 0.5\n",
        "\n",
        "# Visualize your results!\n",
        "qit_evolver.plot_convergence()"
      ]
    },
    {
      "cell_type": "markdown",
      "id": "18a1a8ba-1d9f-4e47-aab1-a2055e76e5f6",
      "metadata": {
        "id": "18a1a8ba-1d9f-4e47-aab1-a2055e76e5f6"
      },
      "source": [
        "# Check out your best / most frequent cut!\n",
        "Following the variational quantum imaginary time evolution (vQITE) loop, we sample the quantum circuit to obtain classical bitstrings.  The most frequent bitstring represents our solution, the final score though will take into account all of the right solutions..."
      ]
    },
    {
      "cell_type": "code",
      "execution_count": 3205,
      "id": "082b9e00-8f19-4790-98ef-b0aeb3fd153a",
      "metadata": {
        "id": "082b9e00-8f19-4790-98ef-b0aeb3fd153a",
        "outputId": "35ff46c3-c4e2-4e1b-f04f-19256b22a206",
        "scrolled": true
      },
      "outputs": [
        {
          "name": "stdout",
          "output_type": "stream",
          "text": [
            "[('10101101', 6), ('10110101', 6), ('01011010', 6), ('11010101', 6), ('01001010', 6), ('00101010', 6), ('10100101', 6), ('10010101', 6), ('01101010', 6), ('01010100', 6), ('01010010', 6), ('01010110', 6), ('10101001', 6), ('10101011', 6), ('10101010', 8), ('01010101', 8)]\n",
            "{'10101010': 49906, '01010101': 49581, '10101101': 4, '10110101': 26, '01011010': 35, '11010101': 302, '01001010': 19, '00101010': 66, '10100101': 36, '10010101': 6, '01101010': 7, '01010100': 4, '01010010': 3, '01010110': 1, '10101001': 3, '10101011': 1}\n"
          ]
        }
      ],
      "source": [
        "from qiskit_aer import AerSimulator\n",
        "\n",
        "shots = 100_000\n",
        "\n",
        "# Sample your optimized quantum state using Aer\n",
        "backend = AerSimulator()\n",
        "optimized_state = ansatz.assign_parameters(qit_evolver.param_vals[-1])\n",
        "optimized_state.measure_all()\n",
        "counts = backend.run(optimized_state, shots=shots).result().get_counts()\n",
        "\n",
        "# Find the sampled bitstring with the largest cut value\n",
        "cut_vals = sorted(((bs, compute_cut_size(graph, bs)) for bs in counts), key=lambda t: t[1])\n",
        "best_bs = cut_vals[-1][0]\n",
        "\n",
        "# Now find the most likely MaxCut solution as sampled from your optimized state\n",
        "# We'll leave this part up to you!!!\n",
        "most_likely_soln = \"\"\n",
        "\n",
        "print(cut_vals)\n",
        "print(counts)"
      ]
    },
    {
      "cell_type": "code",
      "execution_count": 3206,
      "id": "d5d2564d-373e-444b-9853-0fe75af5ca31",
      "metadata": {
        "id": "d5d2564d-373e-444b-9853-0fe75af5ca31",
        "outputId": "b0e14c69-ffd7-4684-97b1-7d5c77d747cc"
      },
      "outputs": [
        {
          "data": {
            "image/png": "[encoded data removed]",
            "text/plain": [
              "<Figure size 400x400 with 1 Axes>"
            ]
          },
          "metadata": {},
          "output_type": "display_data"
        },
        {
          "name": "stdout",
          "output_type": "stream",
          "text": [
            "Cut value: 8\n",
            "Graph with 8 nodes and 8 edges 01010101\n"
          ]
        }
      ],
      "source": [
        "interpret_solution(graph, best_bs)\n",
        "print(\"Cut value: \"+str(compute_cut_size(graph, best_bs)))\n",
        "print(graph, best_bs)"
      ]
    },
    {
      "cell_type": "markdown",
      "id": "927f7760-4854-4c9e-8c57-070c2cd8eb5d",
      "metadata": {
        "id": "927f7760-4854-4c9e-8c57-070c2cd8eb5d"
      },
      "source": [
        "# Drumroll please... the scores!\n"
      ]
    },
    {
      "cell_type": "code",
      "execution_count": 3207,
      "id": "ba3c6de3-a478-4062-a148-8cdea526d47b",
      "metadata": {
        "id": "ba3c6de3-a478-4062-a148-8cdea526d47b",
        "outputId": "75cff336-326f-48b8-be99-bb6de8e04ce0"
      },
      "outputs": [
        {
          "name": "stdout",
          "output_type": "stream",
          "text": [
            "CPU times: total: 15.6 ms\n",
            "Wall time: 37.6 ms\n"
          ]
        }
      ],
      "source": [
        "%%time\n",
        "# Brute-force approach with conditional checks\n",
        "\n",
        "verbose = False\n",
        "\n",
        "G = graph\n",
        "n = len(G.nodes())\n",
        "w = np.zeros([n, n])\n",
        "for i in range(n):\n",
        "    for j in range(n):\n",
        "        temp = G.get_edge_data(i, j, default=0)\n",
        "        if temp != 0:\n",
        "            w[i, j] = 1.0\n",
        "if verbose:\n",
        "    print(w)\n",
        "\n",
        "best_cost_brute = 0\n",
        "best_cost_balanced = 0\n",
        "best_cost_connected = 0\n",
        "\n",
        "for b in range(2**n):\n",
        "    x = [int(t) for t in reversed(list(bin(b)[2:].zfill(n)))]\n",
        "\n",
        "    # Create subgraphs based on the partition\n",
        "    subgraph0 = G.subgraph([i for i, val in enumerate(x) if val == 0])\n",
        "    subgraph1 = G.subgraph([i for i, val in enumerate(x) if val == 1])\n",
        "\n",
        "    bs = \"\".join(str(i) for i in x)\n",
        "\n",
        "    # Check if subgraphs are not empty\n",
        "    if len(subgraph0.nodes) > 0 and len(subgraph1.nodes) > 0:\n",
        "        cost = 0\n",
        "        for i in range(n):\n",
        "            for j in range(n):\n",
        "                cost = cost + w[i, j] * x[i] * (1 - x[j])\n",
        "        if best_cost_brute < cost:\n",
        "            best_cost_brute = cost\n",
        "            xbest_brute = x\n",
        "            XS_brut = []\n",
        "        if best_cost_brute == cost:\n",
        "            XS_brut.append(bs)\n",
        "\n",
        "        outstr = \"case = \" + str(x) + \" cost = \" + str(cost)\n",
        "\n",
        "        if (len(subgraph1.nodes)-len(subgraph0.nodes))**2 <= 1:\n",
        "            outstr += \" balanced\"\n",
        "            if best_cost_balanced < cost:\n",
        "                best_cost_balanced = cost\n",
        "                xbest_balanced = x\n",
        "                XS_balanced = []\n",
        "            if best_cost_balanced == cost:\n",
        "                XS_balanced.append(bs)\n",
        "\n",
        "        if nx.is_connected(subgraph0) and nx.is_connected(subgraph1):\n",
        "            outstr += \" connected\"\n",
        "            if best_cost_connected < cost:\n",
        "                best_cost_connected = cost\n",
        "                xbest_connected = x\n",
        "                XS_connected = []\n",
        "            if best_cost_connected == cost:\n",
        "                XS_connected.append(bs)\n",
        "        if verbose:\n",
        "            print(outstr)\n"
      ]
    },
    {
      "cell_type": "code",
      "execution_count": 3208,
      "id": "a86afe26-3e79-427b-b488-b94186936f6d",
      "metadata": {
        "id": "a86afe26-3e79-427b-b488-b94186936f6d",
        "outputId": "c6660556-4f67-4581-bbc7-59b27b4c6b4f"
      },
      "outputs": [
        {
          "data": {
            "image/png": "[encoded data removed]",
            "text/plain": [
              "<Figure size 400x400 with 1 Axes>"
            ]
          },
          "metadata": {},
          "output_type": "display_data"
        },
        {
          "name": "stdout",
          "output_type": "stream",
          "text": [
            "Graph with 8 nodes and 8 edges [1, 0, 1, 0, 1, 0, 1, 0]\n",
            "\n",
            "Best solution = [1, 0, 1, 0, 1, 0, 1, 0] cost = 8.0\n",
            "['10101010', '01010101']\n"
          ]
        },
        {
          "data": {
            "image/png": "[encoded data removed]",
            "text/plain": [
              "<Figure size 400x400 with 1 Axes>"
            ]
          },
          "metadata": {},
          "output_type": "display_data"
        },
        {
          "name": "stdout",
          "output_type": "stream",
          "text": [
            "Graph with 8 nodes and 8 edges [1, 0, 1, 0, 1, 0, 1, 0]\n",
            "\n",
            "Best balanced = [1, 0, 1, 0, 1, 0, 1, 0] cost = 8.0\n",
            "['10101010', '01010101']\n"
          ]
        },
        {
          "data": {
            "image/png": "[encoded data removed]",
            "text/plain": [
              "<Figure size 400x400 with 1 Axes>"
            ]
          },
          "metadata": {},
          "output_type": "display_data"
        },
        {
          "name": "stdout",
          "output_type": "stream",
          "text": [
            "Graph with 8 nodes and 8 edges [1, 0, 0, 0, 0, 0, 0, 0]\n",
            "\n",
            "Best connected = [1, 0, 0, 0, 0, 0, 0, 0] cost = 2.0\n",
            "['10000000', '01000000', '11000000', '00100000', '01100000', '11100000', '00010000', '00110000', '01110000', '11110000', '00001000', '00011000', '00111000', '01111000', '11111000', '00000100', '00001100', '00011100', '00111100', '01111100', '11111100', '00000010', '00000110', '00001110', '00011110', '00111110', '01111110', '11111110', '00000001', '10000001', '11000001', '11100001', '11110001', '11111001', '11111101', '00000011', '10000011', '11000011', '11100011', '11110011', '11111011', '00000111', '10000111', '11000111', '11100111', '11110111', '00001111', '10001111', '11001111', '11101111', '00011111', '10011111', '11011111', '00111111', '10111111', '01111111']\n"
          ]
        }
      ],
      "source": [
        "# This is classical brute force solver results:\n",
        "interpret_solution(graph, xbest_brute)\n",
        "print(graph, xbest_brute)\n",
        "print(\"\\nBest solution = \" + str(xbest_brute) + \" cost = \" + str(best_cost_brute))\n",
        "print(XS_brut)\n",
        "\n",
        "interpret_solution(graph, xbest_balanced)\n",
        "print(graph, xbest_balanced)\n",
        "print(\"\\nBest balanced = \" + str(xbest_balanced) + \" cost = \" + str(best_cost_balanced))\n",
        "print(XS_balanced)\n",
        "\n",
        "interpret_solution(graph, xbest_connected)\n",
        "print(graph, xbest_connected)\n",
        "print(\"\\nBest connected = \" + str(xbest_connected) + \" cost = \" + str(best_cost_connected))\n",
        "print(XS_connected)\n",
        "plt.show()"
      ]
    },
    {
      "cell_type": "code",
      "execution_count": 3209,
      "id": "7d5c3313-4748-4df3-b01d-84b74da65ca6",
      "metadata": {
        "id": "7d5c3313-4748-4df3-b01d-84b74da65ca6",
        "outputId": "c94508dd-b973-4cba-c5ba-6698e2fd1e59"
      },
      "outputs": [
        {
          "name": "stdout",
          "output_type": "stream",
          "text": [
            "Pure max-cut: 99487 out of 100000\n",
            "Balanced max-cut: 99487 out of 100000\n",
            "Connected max-cut: 0 out of 100000\n"
          ]
        }
      ],
      "source": [
        "# And this is how we calculate the shots counted toward scores for each class of the problems\n",
        "\n",
        "sum_counts = 0\n",
        "for bs in counts:\n",
        "    if bs in XS_brut:\n",
        "        sum_counts += counts[bs]\n",
        "\n",
        "print(f\"Pure max-cut: {sum_counts} out of {shots}\")\n",
        "\n",
        "sum_balanced_counts = 0\n",
        "for bs in counts:\n",
        "    if bs in XS_balanced:\n",
        "        sum_balanced_counts += counts[bs]\n",
        "\n",
        "print(f\"Balanced max-cut: {sum_balanced_counts} out of {shots}\")\n",
        "\n",
        "sum_connected_counts = 0\n",
        "for bs in counts:\n",
        "    if bs in XS_connected:\n",
        "        sum_connected_counts += counts[bs]\n",
        "\n",
        "print(f\"Connected max-cut: {sum_connected_counts} out of {shots}\")"
      ]
    },
    {
      "cell_type": "code",
      "execution_count": 3210,
      "id": "d694fe6e-8271-4085-b181-073c4e497555",
      "metadata": {
        "id": "d694fe6e-8271-4085-b181-073c4e497555"
      },
      "outputs": [],
      "source": [
        "def final_score(graph, XS_brut,counts,shots,ansatz,challenge):\n",
        "\n",
        "    if(challenge=='base'):\n",
        "        sum_counts = 0\n",
        "        for bs in counts:\n",
        "            if bs in XS_brut:\n",
        "                sum_counts += counts[bs]\n",
        "    elif(challenge=='balanced'):\n",
        "        sum_balanced_counts = 0\n",
        "        for bs in counts:\n",
        "            if bs in XS_balanced:\n",
        "                sum_balanced_counts += counts[bs]\n",
        "        sum_counts = sum_balanced_counts\n",
        "    elif(challenge=='connected'):\n",
        "        sum_connected_counts = 0\n",
        "        for bs in counts:\n",
        "            if bs in XS_connected:\n",
        "                sum_connected_counts += counts[bs]\n",
        "        sum_counts = sum_connected_counts\n",
        "\n",
        "\n",
        "    transpiled_ansatz = transpile(ansatz, basis_gates = ['cx','rz','sx','x'])\n",
        "    cx_count = transpiled_ansatz.count_ops()['cx']\n",
        "    score = (4*2*graph.number_of_edges())/(4*2*graph.number_of_edges() + cx_count) * sum_counts/shots\n",
        "\n",
        "    return np.round(score,5)"
      ]
    },
    {
      "cell_type": "code",
      "execution_count": 3211,
      "id": "13bf203b-fd7d-4e99-a4f0-016488401260",
      "metadata": {
        "id": "13bf203b-fd7d-4e99-a4f0-016488401260",
        "outputId": "590afabf-eb3a-4537-8f41-a1e144c5a7e0"
      },
      "outputs": [
        {
          "name": "stdout",
          "output_type": "stream",
          "text": [
            "Base score: 0.88433\n",
            "Balanced score: 0.88433\n",
            "Connected score: 0.0\n"
          ]
        }
      ],
      "source": [
        "print(\"Base score: \" + str(final_score(graph,XS_brut,counts,shots,ansatz,'base')))\n",
        "print(\"Balanced score: \" + str(final_score(graph,XS_brut,counts,shots,ansatz,'balanced')))\n",
        "print(\"Connected score: \" + str(final_score(graph,XS_brut,counts,shots,ansatz,'connected')))"
      ]
    },
    {
      "cell_type": "markdown",
      "id": "2dccc4aa-ca4e-43a8-bf4c-7eacfd047638",
      "metadata": {
        "id": "2dccc4aa-ca4e-43a8-bf4c-7eacfd047638"
      },
      "source": [
        "This is the main challenge:  design optimal ansatz generators and Hamiltonians for the max-cut problem, subject to three specific conditions.  Solutions for each condition can be submitted independently; however, a unified approach applicable to all three conditions will receive additional credit."
      ]
    },
    {
      "cell_type": "markdown",
      "id": "2e5f8e51-3f86-423b-bd1f-3b96310e3e2d",
      "metadata": {
        "id": "2e5f8e51-3f86-423b-bd1f-3b96310e3e2d"
      },
      "source": [
        "# Submit your results\n",
        "\n",
        "I guess this is the most important part. You probably want to report your results.\n",
        "\n",
        "Please, follow the link: https://forms.gle/gkpSCe7HGr7QHZXQ6\n",
        "\n",
        "Let's revisit the problem statement. **This is important!!!** We have three scoring methods to report:\n",
        "\n",
        "1.  Counts shots achieving the optimal max-cut value. Sorry, no approximation value this time.\n",
        "2.  Adds a balance constraint—subgraphs must have equal cardinality.\n",
        "3.  Requires connected subgraphs—all vertices within a subgraph must be mutually reachable.\n",
        "\n",
        "For **in-person participants**:  Prepare a presentation that explains your research and demonstrates the value of your proposed solution.\n",
        "\n",
        "Can you solve this?  Good luck!\n"
      ]
    },
    {
      "cell_type": "markdown",
      "id": "50c5c782-aaef-416f-92bf-bfa3d4b90ae1",
      "metadata": {
        "id": "50c5c782-aaef-416f-92bf-bfa3d4b90ae1"
      },
      "source": [
        "# Feedback\n",
        "If you have any suggestions or recommendations abou the hackathon challange, please, don't hesitatate to leave your comment here: https://iter.ly/u42um"
      ]
    },
    {
      "cell_type": "markdown",
      "id": "79726ec8-fdd5-431b-be88-d467e7a0699c",
      "metadata": {
        "id": "79726ec8-fdd5-431b-be88-d467e7a0699c"
      },
      "source": [
        "![feedbackQR](https://github.com/iQuHACK/2025-IonQ/blob/main/feedbackQR.png?raw=1)"
      ]
    },
    {
      "cell_type": "code",
      "execution_count": null,
      "id": "2e920775-1fbc-46a4-803e-3fda043aa5a1",
      "metadata": {
        "id": "2e920775-1fbc-46a4-803e-3fda043aa5a1"
      },
      "outputs": [],
      "source": []
    }
  ],
  "metadata": {
    "colab": {
      "provenance": []
    },
    "kernelspec": {
      "display_name": ".venv",
      "language": "python",
      "name": "python3"
    },
    "language_info": {
      "codemirror_mode": {
        "name": "ipython",
        "version": 3
      },
      "file_extension": ".py",
      "mimetype": "text/x-python",
      "name": "python",
      "nbconvert_exporter": "python",
      "pygments_lexer": "ipython3",
      "version": "3.12.3"
    }
  },
  "nbformat": 4,
  "nbformat_minor": 5
}
